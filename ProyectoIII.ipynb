{
 "cells": [
  {
   "cell_type": "code",
   "execution_count": 92,
   "metadata": {},
   "outputs": [],
   "source": [
    "import pandas as pd\n",
    "import numpy as np\n",
    "import matplotlib.pyplot as plt\n",
    "import seaborn as sns\n",
    "import datetime"
   ]
  },
  {
   "cell_type": "markdown",
   "metadata": {},
   "source": [
    "**Importo informe aereo**"
   ]
  },
  {
   "cell_type": "code",
   "execution_count": 93,
   "metadata": {},
   "outputs": [],
   "source": [
    "aviones=pd.read_csv(r'PI03-Analytics\\AccidentesAviones.csv')"
   ]
  },
  {
   "cell_type": "markdown",
   "metadata": {},
   "source": [
    "## Analisis de Dataset:\"Accidentes Aviones\""
   ]
  },
  {
   "cell_type": "markdown",
   "metadata": {},
   "source": [
    "**a_ Verifico si tiene datos nulos el informe y si las columnas estan en el formato que corresponde**"
   ]
  },
  {
   "cell_type": "code",
   "execution_count": 619,
   "metadata": {},
   "outputs": [
    {
     "name": "stdout",
     "output_type": "stream",
     "text": [
      "<class 'pandas.core.frame.DataFrame'>\n",
      "RangeIndex: 5008 entries, 0 to 5007\n",
      "Data columns (total 18 columns):\n",
      " #   Column                  Non-Null Count  Dtype \n",
      "---  ------                  --------------  ----- \n",
      " 0   Unnamed: 0              5008 non-null   int64 \n",
      " 1   fecha                   5008 non-null   object\n",
      " 2   HORA declarada          5008 non-null   object\n",
      " 3   Ruta                    5008 non-null   object\n",
      " 4   OperadOR                5008 non-null   object\n",
      " 5   flight_no               5008 non-null   object\n",
      " 6   route                   5008 non-null   object\n",
      " 7   ac_type                 5008 non-null   object\n",
      " 8   registration            5008 non-null   object\n",
      " 9   cn_ln                   5008 non-null   object\n",
      " 10  all_aboard              5008 non-null   object\n",
      " 11  PASAJEROS A BORDO       5008 non-null   object\n",
      " 12  crew_aboard             5008 non-null   object\n",
      " 13  cantidad de fallecidos  5008 non-null   object\n",
      " 14  passenger_fatalities    5008 non-null   object\n",
      " 15  crew_fatalities         5008 non-null   object\n",
      " 16  ground                  5008 non-null   object\n",
      " 17  summary                 5008 non-null   object\n",
      "dtypes: int64(1), object(17)\n",
      "memory usage: 704.4+ KB\n"
     ]
    }
   ],
   "source": [
    "aviones.info()"
   ]
  },
  {
   "cell_type": "markdown",
   "metadata": {},
   "source": [
    "**b_ Corrijo columnas que no son del tipo adecuado**"
   ]
  },
  {
   "cell_type": "markdown",
   "metadata": {},
   "source": [
    "##\n",
    "*Diccionario de datos:\n",
    "*fecha: fecha de despegue del vuelo\n",
    "*Hora declarada: Hora de accidente\n",
    "*Ruta: Ruta de despegue de aernove\n",
    "*OperadOR: Tipo de aeronave\n",
    "*flight_no: Vuelo Numero\n",
    "*route: Ruta de colision \n",
    "*ac_type: Modelo de aeronave\n",
    "*registration:\n",
    "*cn_ln: Numero de serie\n",
    "*all_aboard: Todos los que estaban abordo\n",
    "*PASAJEROS A BORDO: Pasajeros dentro del avion\n",
    "*crew_aboard: Tripulacion abordo\n",
    "*cantidad de fallecidos: Total de personas fallecidas\n",
    "*passenger_fatalities: Pasajeros fallecidos\n",
    "*crew_fatalities: Tripulacion fallecida\n",
    "*ground: personas que fallecieron en tierra a causa del accidente\n",
    "*summary\n",
    "##"
   ]
  },
  {
   "cell_type": "code",
   "execution_count": 540,
   "metadata": {},
   "outputs": [
    {
     "data": {
      "text/plain": [
       "5008"
      ]
     },
     "execution_count": 540,
     "metadata": {},
     "output_type": "execute_result"
    }
   ],
   "source": [
    "aviones.shape[0]"
   ]
  },
  {
   "cell_type": "code",
   "execution_count": 360,
   "metadata": {},
   "outputs": [
    {
     "data": {
      "text/plain": [
       "Unnamed: 0                 int64\n",
       "fecha                     object\n",
       "HORA declarada            object\n",
       "Ruta                      object\n",
       "OperadOR                  object\n",
       "flight_no                 object\n",
       "route                     object\n",
       "ac_type                   object\n",
       "registration              object\n",
       "cn_ln                     object\n",
       "all_aboard                object\n",
       "PASAJEROS A BORDO         object\n",
       "crew_aboard               object\n",
       "cantidad de fallecidos    object\n",
       "passenger_fatalities      object\n",
       "crew_fatalities           object\n",
       "ground                    object\n",
       "summary                   object\n",
       "dtype: object"
      ]
     },
     "execution_count": 360,
     "metadata": {},
     "output_type": "execute_result"
    }
   ],
   "source": [
    "aviones.dtypes"
   ]
  },
  {
   "cell_type": "code",
   "execution_count": 541,
   "metadata": {},
   "outputs": [
    {
     "data": {
      "text/plain": [
       "3      280\n",
       "2      246\n",
       "4      202\n",
       "5      190\n",
       "10     179\n",
       "      ... \n",
       "256      1\n",
       "524      1\n",
       "329      1\n",
       "274      1\n",
       "190      1\n",
       "Name: all_aboard, Length: 245, dtype: int64"
      ]
     },
     "execution_count": 541,
     "metadata": {},
     "output_type": "execute_result"
    }
   ],
   "source": [
    "aviones['all_aboard'].value_counts()"
   ]
  },
  {
   "cell_type": "code",
   "execution_count": 326,
   "metadata": {},
   "outputs": [
    {
     "data": {
      "text/plain": [
       "?        3682\n",
       "-          36\n",
       "1          11\n",
       "101         9\n",
       "6           7\n",
       "         ... \n",
       "138         1\n",
       "124         1\n",
       "1-10        1\n",
       "4422        1\n",
       "SJ182       1\n",
       "Name: flight_no, Length: 893, dtype: int64"
      ]
     },
     "execution_count": 326,
     "metadata": {},
     "output_type": "execute_result"
    }
   ],
   "source": [
    "aviones['flight_no'].value_counts()"
   ]
  },
  {
   "cell_type": "code",
   "execution_count": 94,
   "metadata": {},
   "outputs": [],
   "source": [
    "aviones['fecha']=pd.to_datetime(aviones['fecha'])"
   ]
  },
  {
   "cell_type": "markdown",
   "metadata": {},
   "source": [
    "* Reemplazo '?' por 0 para pasar la columna a numerica, quito todos los simbolos y letras que tenia"
   ]
  },
  {
   "cell_type": "code",
   "execution_count": 95,
   "metadata": {},
   "outputs": [],
   "source": [
    "aviones['HORA declarada']=aviones['HORA declarada'].replace(['?'],'0000')\n",
    "aviones['HORA declarada']=aviones['HORA declarada'].replace([0],'0000')\n",
    "aviones['HORA declarada']=aviones['HORA declarada'].astype(str).apply(lambda x: x.strip('cZ'))\n",
    "aviones['HORA declarada'] = aviones['HORA declarada'].astype(str).apply(lambda x: x.replace(\":\",\"\"))\n",
    "aviones['HORA declarada'] = aviones['HORA declarada'].astype(str).apply(lambda x: x.replace(\";\",\"\"))"
   ]
  },
  {
   "cell_type": "code",
   "execution_count": 96,
   "metadata": {},
   "outputs": [
    {
     "data": {
      "text/plain": [
       "0       1718\n",
       "1       0000\n",
       "2       0630\n",
       "3       0000\n",
       "4       1830\n",
       "        ... \n",
       "5003    1835\n",
       "5004    1800\n",
       "5005    0800\n",
       "5006    1130\n",
       "5007    1500\n",
       "Name: HORA declarada, Length: 5008, dtype: object"
      ]
     },
     "execution_count": 96,
     "metadata": {},
     "output_type": "execute_result"
    }
   ],
   "source": [
    "aviones['HORA declarada']"
   ]
  },
  {
   "cell_type": "code",
   "execution_count": 97,
   "metadata": {},
   "outputs": [],
   "source": [
    "aviones['HORA declarada']=aviones['HORA declarada'].astype(int)"
   ]
  },
  {
   "cell_type": "markdown",
   "metadata": {},
   "source": [
    "* Normalizar columnas con datos faltantes"
   ]
  },
  {
   "cell_type": "code",
   "execution_count": 98,
   "metadata": {},
   "outputs": [],
   "source": [
    "aviones['OperadOR']=aviones['OperadOR'].replace(['?'],'No informado')\n",
    "aviones['route']=aviones['route'].replace(['?'],'No informada')\n",
    "aviones['ac_type']=aviones['ac_type'].replace(['?'],'No informada')"
   ]
  },
  {
   "cell_type": "code",
   "execution_count": 99,
   "metadata": {},
   "outputs": [],
   "source": [
    "aviones['registration']=aviones['registration'].replace(['?'],'No informado')"
   ]
  },
  {
   "cell_type": "markdown",
   "metadata": {},
   "source": [
    "**c_ Reemplazo '?' por 0 para poder pasar la columna a numerica**"
   ]
  },
  {
   "cell_type": "code",
   "execution_count": 100,
   "metadata": {},
   "outputs": [],
   "source": [
    "aviones['PASAJEROS A BORDO']=aviones['PASAJEROS A BORDO'].replace(['?'],0)"
   ]
  },
  {
   "cell_type": "code",
   "execution_count": 101,
   "metadata": {},
   "outputs": [],
   "source": [
    "aviones['PASAJEROS A BORDO']=aviones['PASAJEROS A BORDO'].astype(int)"
   ]
  },
  {
   "cell_type": "markdown",
   "metadata": {},
   "source": [
    "**d_ Reemplazo '?' por 1 para poder pasar la columna a numerica, ya que al menos debe estar el piloto en el avion**"
   ]
  },
  {
   "cell_type": "code",
   "execution_count": 102,
   "metadata": {},
   "outputs": [],
   "source": [
    "aviones['crew_aboard']=aviones['crew_aboard'].replace(['?'],1)"
   ]
  },
  {
   "cell_type": "code",
   "execution_count": 103,
   "metadata": {},
   "outputs": [],
   "source": [
    "aviones['crew_aboard'] =aviones['crew_aboard'].astype(int)"
   ]
  },
  {
   "cell_type": "markdown",
   "metadata": {},
   "source": [
    "**e_reemplazo ? por 0 para poder convertir la columna a numerica**"
   ]
  },
  {
   "cell_type": "code",
   "execution_count": 105,
   "metadata": {},
   "outputs": [],
   "source": [
    "aviones['all_aboard']=aviones['all_aboard'].replace(['?'],1)\n",
    "aviones['all_aboard']=aviones['all_aboard'].replace(['0'],1)"
   ]
  },
  {
   "cell_type": "code",
   "execution_count": 106,
   "metadata": {},
   "outputs": [],
   "source": [
    "aviones['all_aboard'] =aviones['all_aboard'].astype(int)"
   ]
  },
  {
   "cell_type": "markdown",
   "metadata": {},
   "source": [
    "**f_hago lo mismo con las columnas de fallecidos, reemplazo ? con 0, ya que no se puede asegurar que hubo muertes. Y luego paso las columnas a tipo numericas**"
   ]
  },
  {
   "cell_type": "code",
   "execution_count": 107,
   "metadata": {},
   "outputs": [],
   "source": [
    "aviones['cantidad de fallecidos']=aviones['cantidad de fallecidos'].replace(['?'],0)\n",
    "aviones['passenger_fatalities']=aviones['passenger_fatalities'].replace(['?'],0)\n",
    "aviones['crew_fatalities']=aviones['crew_fatalities'].replace(['?'],0)\n",
    "aviones['ground']=aviones['ground'].replace(['?'],0)"
   ]
  },
  {
   "cell_type": "code",
   "execution_count": 108,
   "metadata": {},
   "outputs": [],
   "source": [
    "aviones['cantidad de fallecidos'] =aviones['cantidad de fallecidos'].astype(int)\n",
    "aviones['passenger_fatalities'] =aviones['passenger_fatalities'].astype(int)\n",
    "aviones['crew_fatalities'] =aviones['crew_fatalities'].astype(int)\n",
    "aviones['ground'] =aviones['ground'].astype(int)"
   ]
  },
  {
   "cell_type": "markdown",
   "metadata": {},
   "source": [
    "**g_elimino columnas que no sirvan**"
   ]
  },
  {
   "cell_type": "code",
   "execution_count": 654,
   "metadata": {},
   "outputs": [
    {
     "data": {
      "text/plain": [
       "Index(['Unnamed: 0', 'fecha', 'HORA declarada', 'Ruta', 'OperadOR',\n",
       "       'flight_no', 'route', 'ac_type', 'registration', 'cn_ln', 'all_aboard',\n",
       "       'PASAJEROS A BORDO', 'crew_aboard', 'cantidad de fallecidos',\n",
       "       'passenger_fatalities', 'crew_fatalities', 'ground', 'summary',\n",
       "       'suma_total'],\n",
       "      dtype='object')"
      ]
     },
     "execution_count": 654,
     "metadata": {},
     "output_type": "execute_result"
    }
   ],
   "source": [
    "aviones.columns"
   ]
  },
  {
   "cell_type": "markdown",
   "metadata": {},
   "source": [
    "**Elimino columnas que no voy a usar y renombro las que me quedo**"
   ]
  },
  {
   "cell_type": "code",
   "execution_count": 109,
   "metadata": {},
   "outputs": [],
   "source": [
    "#Columnas que considero que no son relevantes para el dashboard, ya que no las voy a abordar\n",
    "aviones.drop(['Unnamed: 0','flight_no','registration','cn_ln','summary'],axis='columns', inplace=True)"
   ]
  },
  {
   "cell_type": "markdown",
   "metadata": {},
   "source": [
    "*Renombro columnas para que se pueda comprender mas facilmente"
   ]
  },
  {
   "cell_type": "code",
   "execution_count": 74,
   "metadata": {},
   "outputs": [],
   "source": [
    "accidentes=aviones.set_axis(['Fecha','Hora','Ruta_despegue','Operador','Ruta_accidente','Tipo',\n",
    "'Total_abordo','pasajeros','Tripulacion','Total_fallecidos','Pasajeros_fallecidos','Tripulacion_fallecida','Fallecidos_en_tierra'],axis=1)"
   ]
  },
  {
   "cell_type": "markdown",
   "metadata": {},
   "source": [
    "**PASO EL DATAFRAME LIMPIO A CSV**"
   ]
  },
  {
   "cell_type": "code",
   "execution_count": 75,
   "metadata": {},
   "outputs": [],
   "source": [
    "accidentes.to_csv(r'C:\\Users\\fotot\\OneDrive\\Escritorio\\PI3\\Accidentes.csv',index= False)"
   ]
  },
  {
   "cell_type": "markdown",
   "metadata": {},
   "source": [
    "**Informacion datasets complementarios**"
   ]
  },
  {
   "cell_type": "code",
   "execution_count": 85,
   "metadata": {},
   "outputs": [],
   "source": [
    "errores_control=pd.read_html('http://www.planecrashinfo.com/CATATC.htm')\n",
    "golpes_aves=pd.read_html('http://www.planecrashinfo.com/CATBS.htm')\n",
    "incendio=pd.read_html('http://www.planecrashinfo.com/CATCH.htm')\n",
    "diseño=pd.read_html('http://www.planecrashinfo.com/CATDF.htm')\n",
    "combustible=pd.read_html('http://www.planecrashinfo.com/CATFS.htm')\n",
    "relampago=pd.read_html('http://www.planecrashinfo.com/CATL.htm')\n",
    "sabotaje=pd.read_html('http://www.planecrashinfo.com/CATS.htm')"
   ]
  },
  {
   "cell_type": "markdown",
   "metadata": {},
   "source": [
    "## Analisis de datasets"
   ]
  },
  {
   "cell_type": "markdown",
   "metadata": {},
   "source": [
    "**Accidentes por: Errores de control**"
   ]
  },
  {
   "cell_type": "markdown",
   "metadata": {},
   "source": [
    "*Normalizacion de tabla 'errores_control'* "
   ]
  },
  {
   "cell_type": "code",
   "execution_count": 9,
   "metadata": {},
   "outputs": [],
   "source": [
    "errores_control=errores_control[0] #acomodar en formato dataframe\n",
    "errores_control.columns=['Fecha','Ubicacion','Aerolinea','Suceso']#renombrar columnas\n",
    "errores_control=errores_control.drop(0)#borra primera fila\n",
    "errores_control['Fecha']=pd.to_datetime(errores_control['Fecha']) #pasar columna fecha a tipo fecha\n",
    "errores_control['Categoria']='Errores de control' #crear columna con categoria a la que pertenece"
   ]
  },
  {
   "cell_type": "markdown",
   "metadata": {},
   "source": [
    "*Guardar tabla como csv"
   ]
  },
  {
   "cell_type": "code",
   "execution_count": 21,
   "metadata": {},
   "outputs": [],
   "source": [
    "errores_control.to_csv(r'C:\\Users\\fotot\\OneDrive\\Escritorio\\PI3\\errores_control.csv')"
   ]
  },
  {
   "cell_type": "markdown",
   "metadata": {},
   "source": [
    "**Accidentes por: Golpe de aves**"
   ]
  },
  {
   "cell_type": "markdown",
   "metadata": {},
   "source": [
    "*Normalizacion de tabla 'golpes_aves'* "
   ]
  },
  {
   "cell_type": "code",
   "execution_count": 14,
   "metadata": {},
   "outputs": [],
   "source": [
    "golpes_aves=golpes_aves[0] #acomodar en formato dataframe\n",
    "golpes_aves.columns=['Fecha','Ubicacion','Aerolinea','Suceso']#renombrar columnas\n",
    "golpes_aves=golpes_aves.drop(0)#borra primera fila\n",
    "golpes_aves['Fecha']=pd.to_datetime(golpes_aves['Fecha']) #pasar columna fecha a tipo fecha\n",
    "golpes_aves['Categoria']='Golpes de aves' #crear columna con categoria a la que pertenece"
   ]
  },
  {
   "cell_type": "code",
   "execution_count": 30,
   "metadata": {},
   "outputs": [],
   "source": [
    "golpes_aves.to_csv(r'C:\\Users\\fotot\\OneDrive\\Escritorio\\PI3\\golpes_aves.csv')"
   ]
  },
  {
   "cell_type": "markdown",
   "metadata": {},
   "source": [
    "**Accidentes por: Incendio en aeronave**"
   ]
  },
  {
   "cell_type": "code",
   "execution_count": 22,
   "metadata": {},
   "outputs": [],
   "source": [
    "incendio=incendio[0] #acomodar en formato dataframe\n",
    "incendio.columns=['Fecha','Ubicacion','Aerolinea','Suceso']#renombrar columnas\n",
    "incendio=incendio.drop(0)#borra primera fila\n",
    "incendio['Fecha']=pd.to_datetime(incendio['Fecha'])#pasar columna fecha a tipo fecha\n",
    "incendio['Categoria']='Incendio abordo' #crear columna con categoria a la que pertenece"
   ]
  },
  {
   "cell_type": "code",
   "execution_count": 28,
   "metadata": {},
   "outputs": [],
   "source": [
    "incendio.to_csv(r'C:\\Users\\fotot\\OneDrive\\Escritorio\\PI3\\incendio.csv')"
   ]
  },
  {
   "cell_type": "markdown",
   "metadata": {},
   "source": [
    "**Accidentes por: defectos de diseño**"
   ]
  },
  {
   "cell_type": "code",
   "execution_count": 32,
   "metadata": {},
   "outputs": [],
   "source": [
    "diseño=diseño[0]\n",
    "diseño.columns=['Fecha','Ubicacion','Aerolinea','Suceso']#renombrar columnas\n",
    "diseño=diseño.drop(0)#borra primera fila\n",
    "diseño['Fecha']=pd.to_datetime(diseño['Fecha'])#pasar columna fecha a tipo fecha\n",
    "diseño['Categoria']='Falla en diseño' #crear columna con categoria a la que pertenece"
   ]
  },
  {
   "cell_type": "code",
   "execution_count": 382,
   "metadata": {},
   "outputs": [],
   "source": [
    "diseño.to_csv(r'C:\\Users\\fotot\\OneDrive\\Escritorio\\PI3\\diseño.csv')"
   ]
  },
  {
   "cell_type": "markdown",
   "metadata": {},
   "source": [
    "**Accidentes por: Falta de combustible**"
   ]
  },
  {
   "cell_type": "code",
   "execution_count": 38,
   "metadata": {},
   "outputs": [],
   "source": [
    "combustible=combustible[0]\n",
    "combustible.columns=['Fecha','Ubicacion','Aerolinea','Suceso']#renombrar columnas\n",
    "combustible=combustible.drop(0)#borra primera fila\n",
    "combustible['Fecha']=pd.to_datetime(combustible['Fecha'])#pasar columna fecha a tipo fecha\n",
    "combustible['Categoria']='Falta de combustible'#crear columna con categoria a la que pertenece"
   ]
  },
  {
   "cell_type": "code",
   "execution_count": 389,
   "metadata": {},
   "outputs": [],
   "source": [
    "combustible.to_csv(r'C:\\Users\\fotot\\OneDrive\\Escritorio\\PI3\\combustible.csv')"
   ]
  },
  {
   "cell_type": "markdown",
   "metadata": {},
   "source": [
    "**Accidentes por: Relámpagos**"
   ]
  },
  {
   "cell_type": "code",
   "execution_count": 45,
   "metadata": {},
   "outputs": [],
   "source": [
    "relampago=relampago[0]\n",
    "relampago.columns=['Fecha','Ubicacion','Aerolinea','Suceso']#renombrar columnas\n",
    "relampago=relampago.drop(0)#borra primera fila\n",
    "relampago['Fecha']=pd.to_datetime(relampago['Fecha'])#pasar columna fecha a tipo fecha\n",
    "relampago['Categoria']='Tormentas' #crear columna con categoria a la que pertenece"
   ]
  },
  {
   "cell_type": "code",
   "execution_count": 403,
   "metadata": {},
   "outputs": [],
   "source": [
    "relampago.to_csv(r'C:\\Users\\fotot\\OneDrive\\Escritorio\\PI3\\relampago.csv')"
   ]
  },
  {
   "cell_type": "markdown",
   "metadata": {},
   "source": [
    "**Concatenacion de tipos de accidentes**"
   ]
  },
  {
   "cell_type": "code",
   "execution_count": 50,
   "metadata": {},
   "outputs": [],
   "source": [
    "Tipos_accidentes=pd.concat([errores_control,golpes_aves,combustible,diseño,relampago],axis=0)"
   ]
  },
  {
   "cell_type": "code",
   "execution_count": 52,
   "metadata": {},
   "outputs": [],
   "source": [
    "Tipos_accidentes.to_csv(r'C:\\Users\\fotot\\OneDrive\\Escritorio\\PI3\\Tipos_accidentes.csv')"
   ]
  },
  {
   "cell_type": "markdown",
   "metadata": {},
   "source": [
    "## **Diccionario de datos:**\n",
    "\n",
    "**Tabla 'Accidentes'**\n",
    "\n",
    " fecha: fecha de despegue del vuelo.\n",
    " Hora: Hora de accidente.\n",
    " Ruta_despegue: Ruta de despegue de aeronave.\n",
    " Operador: Aerolinea.\n",
    " Ruta_accidente: Ruta de colision.\n",
    " Tipo: Modelo de aeronave.\n",
    " Total_abordo: Todos los que estaban abordo.\n",
    " Pasajeros: Pasajeros dentro del avion.\n",
    " Tripulacion: Tripulacion abordo.\n",
    " Total_fallecidos: Total de personas fallecidas.\n",
    " Pasajeros_fallecidos: Pasajeros fallecidos.\n",
    " Tripulacion_fallecida: Tripulacion fallecida.\n",
    " Fallecidos_en_tierra: personas que fallecieron en tierra a causa del accidente.\n",
    "\n",
    "**Tabla:Tipos_accidentes**\n",
    "Fecha: fecha de accidente\n",
    "Ubicacion: lugar del accidente\n",
    "Aerolinea: aerolinea a cargo del avion\n",
    "Suceso: descripcion de lo sucedio\n"
   ]
  }
 ],
 "metadata": {
  "kernelspec": {
   "display_name": "Python 3.10.7 64-bit",
   "language": "python",
   "name": "python3"
  },
  "language_info": {
   "codemirror_mode": {
    "name": "ipython",
    "version": 3
   },
   "file_extension": ".py",
   "mimetype": "text/x-python",
   "name": "python",
   "nbconvert_exporter": "python",
   "pygments_lexer": "ipython3",
   "version": "3.10.7"
  },
  "orig_nbformat": 4,
  "vscode": {
   "interpreter": {
    "hash": "7ac3ee0c1e143d7461bd9b7543dcba5485f1f3c4c79415bc3c404941c1cee4e8"
   }
  }
 },
 "nbformat": 4,
 "nbformat_minor": 2
}
